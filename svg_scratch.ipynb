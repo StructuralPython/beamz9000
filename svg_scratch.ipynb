{
 "cells": [
  {
   "cell_type": "code",
   "execution_count": 1,
   "id": "ce8dd346-cb47-4d50-b953-371f6acb4e43",
   "metadata": {},
   "outputs": [],
   "source": [
    "%load_ext autoreload\n",
    "%autoreload 2"
   ]
  },
  {
   "cell_type": "code",
   "execution_count": 2,
   "id": "7801bc26-5e4d-4ab3-bb74-aed801d70f1c",
   "metadata": {},
   "outputs": [],
   "source": [
    "import svgpathtools as svg"
   ]
  },
  {
   "cell_type": "code",
   "execution_count": 3,
   "id": "6a985cd8-ad0a-4548-980b-32b9b2d111e3",
   "metadata": {},
   "outputs": [],
   "source": [
    "import pathlib"
   ]
  },
  {
   "cell_type": "code",
   "execution_count": 4,
   "id": "c34144eb-3b7a-46ab-a487-736b26ee4525",
   "metadata": {},
   "outputs": [],
   "source": [
    "from matplotlib.path import Path"
   ]
  },
  {
   "cell_type": "code",
   "execution_count": null,
   "id": "8741de61-b0fb-439b-9f8b-d02f10225d1a",
   "metadata": {},
   "outputs": [],
   "source": []
  },
  {
   "cell_type": "code",
   "execution_count": 5,
   "id": "3db5ea87-3df1-481e-afd4-73049cccde0e",
   "metadata": {},
   "outputs": [],
   "source": [
    "file_path = pathlib.Path(\"C:/Users/cferster/Desktop\")"
   ]
  },
  {
   "cell_type": "code",
   "execution_count": 6,
   "id": "4a12503b-2c0e-4de3-a745-0a733c6c9a9e",
   "metadata": {},
   "outputs": [],
   "source": [
    "paths, attributes = svg.svg2paths(str(file_path / \"drawing.svg\"))\n"
   ]
  },
  {
   "cell_type": "code",
   "execution_count": 431,
   "id": "a11281fa-2981-4510-b3fd-90d15125f088",
   "metadata": {},
   "outputs": [],
   "source": [
    "mpl_paths = []\n",
    "for path in paths:\n",
    "    mpl_paths.append(beamz.svg_to_mpl.svg_path_parse(path.d()))"
   ]
  },
  {
   "cell_type": "code",
   "execution_count": 432,
   "id": "5c279e43-ea58-40d5-90f8-da07b03fe373",
   "metadata": {},
   "outputs": [],
   "source": [
    "import matplotlib.transforms as transforms"
   ]
  },
  {
   "cell_type": "code",
   "execution_count": 433,
   "id": "53d1fea0-6522-4d26-a25c-44dd24186518",
   "metadata": {},
   "outputs": [],
   "source": [
    "aff_scale = transforms.Affine2D()\n",
    "aff_scale.scale(1, -1)\n",
    "aff_shift = transforms.Affine2D()\n",
    "aff_shift.translate(50, 400)\n",
    "trans = aff_scale + aff_shift"
   ]
  },
  {
   "cell_type": "code",
   "execution_count": 434,
   "id": "67f786a7-1a7e-4444-ad38-2789bb3ab925",
   "metadata": {},
   "outputs": [
    {
     "data": {
      "image/png": "[encoded data removed]",
      "text/plain": [
       "<Figure size 360x360 with 1 Axes>"
      ]
     },
     "metadata": {},
     "output_type": "display_data"
    }
   ],
   "source": [
    "xmin, ymin, xmax, ymax = float('inf'), float('inf'), float('-inf'), float('-inf')\n",
    "for path in mpl_paths:\n",
    "    verts = path.vertices\n",
    "    current_xmin, current_ymin = (verts.min(axis=0) - 1)\n",
    "    current_xmax, current_ymax = (verts.max(axis=0) + 1)\n",
    "    xmin, ymin = min(xmin, current_xmin), min(ymin, current_ymin)\n",
    "    xmax, ymax = max(xmax, current_xmax), max(ymax, current_ymax)\n",
    "    \n",
    "fig = plt.figure(figsize=(5, 5), facecolor=\"1\")  # gray background\n",
    "ax = fig.add_axes([0, 0, 1, 1], frameon=False, aspect=1,\n",
    "                xlim=(-xmin*4, xmax*2),  # centering\n",
    "                  ylim=(-ymin*4, ymax*2),  # centering, upside down\n",
    "                  xticks=[], yticks=[])  # no ticks\n",
    "\n",
    "\n",
    "# White outline (width = 6)\n",
    "plot_paths = []\n",
    "for path in mpl_paths:\n",
    "    plot_paths.append(\n",
    "        patches.PathPatch(\n",
    "            path, \n",
    "            facecolor='#ddee33', \n",
    "            edgecolor='k', \n",
    "            lw=2, \n",
    "            capstyle='projecting',\n",
    "            transform=(\n",
    "                # ax.transData +\n",
    "                # trans\n",
    "                ax.transData\n",
    "                + trans\n",
    "\n",
    "\n",
    "            )\n",
    "        )\n",
    "    )\n",
    "    \n",
    "\n",
    "for patch in plot_paths:\n",
    "    ax.add_patch(patch)\n",
    "\n",
    "plt.show()  # Display"
   ]
  },
  {
   "cell_type": "code",
   "execution_count": null,
   "id": "12b596a4-5956-4c74-accf-bda75e47b401",
   "metadata": {},
   "outputs": [],
   "source": []
  },
  {
   "cell_type": "code",
   "execution_count": null,
   "id": "36e1c31d-66d2-44be-9275-dd32e12012e6",
   "metadata": {},
   "outputs": [],
   "source": []
  }
 ],
 "metadata": {
  "kernelspec": {
   "display_name": "beamz9000",
   "language": "python",
   "name": "beamz9000"
  },
  "language_info": {
   "codemirror_mode": {
    "name": "ipython",
    "version": 3
   },
   "file_extension": ".py",
   "mimetype": "text/x-python",
   "name": "python",
   "nbconvert_exporter": "python",
   "pygments_lexer": "ipython3",
   "version": "3.9.7"
  }
 },
 "nbformat": 4,
 "nbformat_minor": 5
}
